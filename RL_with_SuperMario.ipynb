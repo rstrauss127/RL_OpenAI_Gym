{
  "nbformat": 4,
  "nbformat_minor": 0,
  "metadata": {
    "colab": {
      "provenance": [],
      "authorship_tag": "ABX9TyOePjLOJ6Gf15HjCrJECaXi"
    },
    "kernelspec": {
      "name": "python3",
      "display_name": "Python 3"
    },
    "language_info": {
      "name": "python"
    }
  },
  "cells": [
    {
      "cell_type": "markdown",
      "source": [
        "#Reinforcement Learning using AI GYM\n"
      ],
      "metadata": {
        "id": "h-O_M0ozNy6V"
      }
    },
    {
      "cell_type": "code",
      "source": [
        "#!pip install gym_super_mario_bros==7.3.0 nes_py\n",
        "\n",
        "# Import game\n",
        "import gym_super_mario_bros\n",
        "# import joypad wrapper\n",
        "from nes_py.wrappers import JoypadSpace\n",
        "# import simple movement\n",
        "from gym_super_mario_bros.actions import SIMPLE_MOVEMENT"
      ],
      "metadata": {
        "id": "yu4T_m5iuHdy"
      },
      "execution_count": 2,
      "outputs": []
    },
    {
      "cell_type": "markdown",
      "source": [
        "##Explain the game?\n",
        "\n",
        "The SIMPLE_MOVEMENT package simplifies the actions from the game. The available moves are:\n"
      ],
      "metadata": {
        "id": "pR5Bkd8PudNJ"
      }
    },
    {
      "cell_type": "code",
      "source": [
        "SIMPLE_MOVEMENT"
      ],
      "metadata": {
        "colab": {
          "base_uri": "https://localhost:8080/"
        },
        "id": "4z80nIgQvC6r",
        "outputId": "085a8ef2-bc04-41cc-d890-f4959a247117"
      },
      "execution_count": 3,
      "outputs": [
        {
          "output_type": "execute_result",
          "data": {
            "text/plain": [
              "[['NOOP'],\n",
              " ['right'],\n",
              " ['right', 'A'],\n",
              " ['right', 'B'],\n",
              " ['right', 'A', 'B'],\n",
              " ['A'],\n",
              " ['left']]"
            ]
          },
          "metadata": {},
          "execution_count": 3
        }
      ]
    },
    {
      "cell_type": "markdown",
      "source": [
        "## Setup Game"
      ],
      "metadata": {
        "id": "WjU9Svw6vsRJ"
      }
    },
    {
      "cell_type": "code",
      "source": [],
      "metadata": {
        "id": "G-0OECdbv-FO"
      },
      "execution_count": null,
      "outputs": []
    }
  ]
}